{
   "cell_type": "code",
   "execution_count": 2,
   "id": "9336569b-1980-4f13-83e3-8189ce0a2ad2",
   "metadata": {},
   "outputs": [
    {
     "data": {
      "text/html": [
       "<style>#sk-container-id-1 {color: black;}#sk-container-id-1 pre{padding: 0;}#sk-container-id-1 div.sk-toggleable {background-color: white;}#sk-container-id-1 label.sk-toggleable__label {cursor: pointer;display: block;width: 100%;margin-bottom: 0;padding: 0.3em;box-sizing: border-box;text-align: center;}#sk-container-id-1 label.sk-toggleable__label-arrow:before {content: \"▸\";float: left;margin-right: 0.25em;color: #696969;}#sk-container-id-1 label.sk-toggleable__label-arrow:hover:before {color: black;}#sk-container-id-1 div.sk-estimator:hover label.sk-toggleable__label-arrow:before {color: black;}#sk-container-id-1 div.sk-toggleable__content {max-height: 0;max-width: 0;overflow: hidden;text-align: left;background-color: #f0f8ff;}#sk-container-id-1 div.sk-toggleable__content pre {margin: 0.2em;color: black;border-radius: 0.25em;background-color: #f0f8ff;}#sk-container-id-1 input.sk-toggleable__control:checked~div.sk-toggleable__content {max-height: 200px;max-width: 100%;overflow: auto;}#sk-container-id-1 input.sk-toggleable__control:checked~label.sk-toggleable__label-arrow:before {content: \"▾\";}#sk-container-id-1 div.sk-estimator input.sk-toggleable__control:checked~label.sk-toggleable__label {background-color: #d4ebff;}#sk-container-id-1 div.sk-label input.sk-toggleable__control:checked~label.sk-toggleable__label {background-color: #d4ebff;}#sk-container-id-1 input.sk-hidden--visually {border: 0;clip: rect(1px 1px 1px 1px);clip: rect(1px, 1px, 1px, 1px);height: 1px;margin: -1px;overflow: hidden;padding: 0;position: absolute;width: 1px;}#sk-container-id-1 div.sk-estimator {font-family: monospace;background-color: #f0f8ff;border: 1px dotted black;border-radius: 0.25em;box-sizing: border-box;margin-bottom: 0.5em;}#sk-container-id-1 div.sk-estimator:hover {background-color: #d4ebff;}#sk-container-id-1 div.sk-parallel-item::after {content: \"\";width: 100%;border-bottom: 1px solid gray;flex-grow: 1;}#sk-container-id-1 div.sk-label:hover label.sk-toggleable__label {background-color: #d4ebff;}#sk-container-id-1 div.sk-serial::before {content: \"\";position: absolute;border-left: 1px solid gray;box-sizing: border-box;top: 0;bottom: 0;left: 50%;z-index: 0;}#sk-container-id-1 div.sk-serial {display: flex;flex-direction: column;align-items: center;background-color: white;padding-right: 0.2em;padding-left: 0.2em;position: relative;}#sk-container-id-1 div.sk-item {position: relative;z-index: 1;}#sk-container-id-1 div.sk-parallel {display: flex;align-items: stretch;justify-content: center;background-color: white;position: relative;}#sk-container-id-1 div.sk-item::before, #sk-container-id-1 div.sk-parallel-item::before {content: \"\";position: absolute;border-left: 1px solid gray;box-sizing: border-box;top: 0;bottom: 0;left: 50%;z-index: -1;}#sk-container-id-1 div.sk-parallel-item {display: flex;flex-direction: column;z-index: 1;position: relative;background-color: white;}#sk-container-id-1 div.sk-parallel-item:first-child::after {align-self: flex-end;width: 50%;}#sk-container-id-1 div.sk-parallel-item:last-child::after {align-self: flex-start;width: 50%;}#sk-container-id-1 div.sk-parallel-item:only-child::after {width: 0;}#sk-container-id-1 div.sk-dashed-wrapped {border: 1px dashed gray;margin: 0 0.4em 0.5em 0.4em;box-sizing: border-box;padding-bottom: 0.4em;background-color: white;}#sk-container-id-1 div.sk-label label {font-family: monospace;font-weight: bold;display: inline-block;line-height: 1.2em;}#sk-container-id-1 div.sk-label-container {text-align: center;}#sk-container-id-1 div.sk-container {/* jupyter's `normalize.less` sets `[hidden] { display: none; }` but bootstrap.min.css set `[hidden] { display: none !important; }` so we also need the `!important` here to be able to override the default hidden behavior on the sphinx rendered scikit-learn.org. See: https://github.com/scikit-learn/scikit-learn/issues/21755 */display: inline-block !important;position: relative;}#sk-container-id-1 div.sk-text-repr-fallback {display: none;}</style><div id=\"sk-container-id-1\" class=\"sk-top-container\"><div class=\"sk-text-repr-fallback\"><pre>DecisionTreeClassifier(random_state=42)</pre><b>In a Jupyter environment, please rerun this cell to show the HTML representation or trust the notebook. <br />On GitHub, the HTML representation is unable to render, please try loading this page with nbviewer.org.</b></div><div class=\"sk-container\" hidden><div class=\"sk-item\"><div class=\"sk-estimator sk-toggleable\"><input class=\"sk-toggleable__control sk-hidden--visually\" id=\"sk-estimator-id-1\" type=\"checkbox\" checked><label for=\"sk-estimator-id-1\" class=\"sk-toggleable__label sk-toggleable__label-arrow\">DecisionTreeClassifier</label><div class=\"sk-toggleable__content\"><pre>DecisionTreeClassifier(random_state=42)</pre></div></div></div></div></div>"
      ],
      "text/plain": [
       "DecisionTreeClassifier(random_state=42)"
      ]
     },
     "execution_count": 2,
     "metadata": {},
     "output_type": "execute_result"
    }
   ],
   "source": [
    "# Function to load images from a directory\n",
    "def load_images_from_folder(folder):\n",
    "    images = []\n",
    "    for filename in os.listdir(folder):\n",
    "        img_path = os.path.join(folder, filename)\n",
    "        img = cv2.imread(img_path)\n",
    "        if img is not None:\n",
    "            images.append(img)\n",
    "    return images\n",
    "\n",
    "# Define the root directory of your dataset\n",
    "root_dir = \"C:\\\\Users\\\\celsi\\\\Downloads\\\\archive\"\n",
    "\n",
    "# Define the paths for damaged and intact images\n",
    "damaged_side_dir = os.path.join(root_dir, 'damaged/side/')\n",
    "damaged_top_dir = os.path.join(root_dir, 'damaged/top/')\n",
    "intact_side_dir = os.path.join(root_dir, 'intact/side/')\n",
    "intact_top_dir = os.path.join(root_dir, 'intact/top/')\n",
    "\n",
    "# Load images from each directory\n",
    "damaged_side_images = load_images_from_folder(damaged_side_dir)\n",
    "damaged_top_images = load_images_from_folder(damaged_top_dir)\n",
    "intact_side_images = load_images_from_folder(intact_side_dir)\n",
    "intact_top_images = load_images_from_folder(intact_top_dir)\n",
    "\n",
    "# Define the dimensions of the images in your dataset\n",
    "width, height = intact_top_images[0].shape[1], intact_top_images[0].shape[0]\n",
    "\n",
    "# Create labels for the images\n",
    "damaged_labels = ['damaged'] * (len(damaged_side_images) + len(damaged_top_images))\n",
    "intact_labels = ['intact'] * (len(intact_side_images) + len(intact_top_images))\n",
    "\n",
    "# Concatenate damaged and intact images and labels\n",
    "all_images = damaged_side_images + damaged_top_images + intact_side_images + intact_top_images\n",
    "all_labels = damaged_labels + intact_labels\n",
    "\n",
    "# Convert images to numpy array\n",
    "all_images = np.array(all_images)\n",
    "\n",
    "# Flatten the images\n",
    "all_images_flattened = all_images.reshape(all_images.shape[0], -1)\n",
    "\n",
    "# Split the dataset into training and validation sets\n",
    "X_train, X_val, y_train, y_val = train_test_split(all_images_flattened, all_labels, test_size=0.1, random_state=42)\n",
    "\n",
    "# Encode labels\n",
    "label_encoder = LabelEncoder()\n",
    "y_train_encoded = label_encoder.fit_transform(y_train)\n",
    "y_val_encoded = label_encoder.transform(y_val)\n",
    "\n",
    "# Train a Decision tree model\n",
    "model = DecisionTreeClassifier(random_state=42)\n",
    "model.fit(X_train, y_train_encoded)\n"
   ]
  },
  {
   "cell_type": "code",
   "execution_count": 3,
   "id": "7cf0ff28-48a1-47ae-a8a4-53d72073a56a",
   "metadata": {},
   "outputs": [
    {
     "name": "stdout",
     "output_type": "stream",
     "text": [
      "Validation Accuracy for DT algorithm: 0.90\n",
      "Training R-squared: 1.0\n",
      "Training RMSE: 0.0\n",
      "Testing R-squared: 0.5997498436522826\n",
      "Testing RMSE: 0.31622776601683794\n",
      "F1 Score: 0.8996228786926462\n"
     ]
    }
   ],
   "source": [
    "\n",
    "# Evaluate the model on the validation set\n",
    "y_val_pred_encoded = model.predict(X_val)\n",
    "accuracy = accuracy_score(y_val_encoded, y_val_pred_encoded)\n",
    "formatted_accuracy = \"{:.2f}\".format(accuracy)  # Format accuracy to two decimal places\n",
    "print(f\"Validation Accuracy for DT algorithm: {formatted_accuracy}\")\n",
    "\n",
    "# Evaluate R-squared and RMSE for training set\n",
    "y_train_pred_encoded = model.predict(X_train)\n",
    "r2_train = r2_score(y_train_encoded, y_train_pred_encoded)\n",
    "rmse_train = sqrt(mean_squared_error(y_train_encoded, y_train_pred_encoded))\n",
    "print(f\"Training R-squared: {r2_train}\")\n",
    "print(f\"Training RMSE: {rmse_train}\")\n",
    "\n",
    "# Evaluate R-squared and RMSE for testing set\n",
    "r2_test = r2_score(y_val_encoded, y_val_pred_encoded)\n",
    "rmse_test = sqrt(mean_squared_error(y_val_encoded, y_val_pred_encoded))\n",
    "print(f\"Testing R-squared: {r2_test}\")\n",
    "print(f\"Testing RMSE: {rmse_test}\")\n",
    "\n",
    "# Calculate F1 score\n",
    "f1 = f1_score(y_val_encoded, y_val_pred_encoded, average='weighted')\n",
    "print(f\"F1 Score: {f1}\")\n"
   ]
  },
  {
   "cell_type": "code",
   "execution_count": 10,
   "id": "3c9ae831-08a4-4745-ba69-e52ee30536fb",
   "metadata": {
    "tags": []
   },
   "outputs": [],
   "source": [
    "image_path = \"C:\\\\Users\\\\celsi\\\\Downloads\\\\archive\\\\intact\\\\side\\\\0889601418161_side.png\"\n",
    "\n",
    "# Load the user-uploaded image\n",
    "user_image = cv2.imread(image_path)\n",
    "if user_image is None:\n",
    "    print(\"Error loading the image. Exiting.\")\n",
    "else:\n",
    "    # Resize the image to match the model input dimensions\n",
    "    resized_image = cv2.resize(user_image, (width, height))\n",
    "\n",
    "    # Preprocess the image (if needed)\n",
    "    preprocessed_image = resized_image  # Placeholder for any preprocessing steps\n",
    "\n",
    "    # Predict the class label\n",
    "    prediction = model.predict(preprocessed_image.reshape(1, -1))\n",
    "\n",
    " # Define colors for bounding boxes\n",
    "    if prediction[0] == 1:\n",
    "        color = (0, 255, 0)  # Green for intact\n",
    "        label = \"Intact\"\n",
    "    else:\n",
    "        color = (0, 0, 255)  # Red for damaged\n",
    "        label = \"Damaged\"\n",
    "    \n",
    "    # Calculate the bounding box coordinates (assuming the package is in the center of the image)\n",
    "    box_x1, box_y1 = int(width * 0.25), int(height * 0.25)  # Top-left corner\n",
    "    box_x2, box_y2 = int(width * 0.75), int(height * 0.75)  # Bottom-right corner\n",
    "\n",
    "    # Draw a bounding box around the object in the image\n",
    "    cv2.rectangle(resized_image, (box_x1, box_y1), (box_x2, box_y2), color, thickness=2)\n",
    "    \n",
    "    # Add label text\n",
    "    cv2.putText(resized_image, label, (box_x1, box_y1 - 10), cv2.FONT_HERSHEY_SIMPLEX, 1, color, 2)\n",
    "    \n",
    "try:\n",
    "    # Display the image with prediction\n",
    "    cv2.imshow(\"Prediction Result\", resized_image)\n",
    "    cv2.waitKey(0)\n",
    "    cv2.destroyAllWindows()\n",
    "except Exception as e:\n",
    "    print(\"An error occurred during image display:\", e)\n"
   ]
  },
  {
   "cell_type": "code",
   "execution_count": null,
   "id": "c9ae893a-8d7d-4d11-8f3e-e9d2233cc763",
   "metadata": {},
   "outputs": [],
   "source": []
  },
  {
   "cell_type": "code",
   "execution_count": null,
   "id": "769313c7-71c3-4c48-93ea-df525b14bdb4",
   "metadata": {},
   "outputs": [],
   "source": []
  }
 ],
 "metadata": {
  "kernelspec": {
   "display_name": "Python 3 (ipykernel)",
   "language": "python",
   "name": "python3"
  },
  "language_info": {
   "codemirror_mode": {
    "name": "ipython",
    "version": 3
   },
   "file_extension": ".py",
   "mimetype": "text/x-python",
   "name": "python",
   "nbconvert_exporter": "python",
   "pygments_lexer": "ipython3",
   "version": "3.11.5"
  }
 },
 "nbformat": 4,
 "nbformat_minor": 5
}
