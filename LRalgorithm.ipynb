{
 "cells": [
  {
   "cell_type": "code",
   "execution_count": 1,
   "id": "d995d02f-18c8-4e25-a6f5-26c59e7e6302",
   "metadata": {
    "tags": []
   },
   "outputs": [],
   "source": [
    "import os\n",
    "import cv2\n",
    "import numpy as np\n",
    "from sklearn.linear_model import LogisticRegression\n",
    "from sklearn.model_selection import train_test_split\n",
    "from sklearn.metrics import accuracy_score, mean_squared_error, f1_score, r2_score\n",
    "from tkinter import filedialog\n",
    "from tkinter import Tk\n",
    "from math import sqrt\n",
    "from sklearn.metrics import classification_report\n",
    "from sklearn.preprocessing import LabelEncoder"
   ]
  },
  {
   "cell_type": "code",
   "execution_count": 2,
   "id": "67348a4d-c5ce-43f2-9cd8-3ccaa300740f",
   "metadata": {
    "tags": []
   },
   "outputs": [],
   "source": [
    "# Function to load images from a directory\n",
    "def load_images_from_folder(folder):\n",
    "    images = []\n",
    "    for filename in os.listdir(folder):\n",
    "        img_path = os.path.join(folder, filename)\n",
    "        img = cv2.imread(img_path)\n",
    "        if img is not None:\n",
    "            images.append(img)\n",
    "    return images"
   ]
  },
  {
   "cell_type": "code",
   "execution_count": 3,
   "id": "089f6b6f-2f13-4e91-906f-ff8ac4e86bff",
   "metadata": {
    "tags": []
   },
   "outputs": [],
   "source": [
    "# Define the root directory of your dataset\n",
    "root_dir =  \"C:\\\\Users\\\\celsi\\\\Downloads\\\\archive\"\n",
    "\n",
    "# Define the paths for damaged and intact images\n",
    "damaged_side_dir = os.path.join(root_dir, 'damaged/side/')\n",
    "damaged_top_dir = os.path.join(root_dir, 'damaged/top/')\n",
    "intact_side_dir = os.path.join(root_dir, 'intact/side/')\n",
    "intact_top_dir = os.path.join(root_dir, 'intact/top/')\n",
    "\n",
    "# Load images from each directory\n",
    "damaged_side_images = load_images_from_folder(damaged_side_dir)\n",
    "damaged_top_images = load_images_from_folder(damaged_top_dir)\n",
    "intact_side_images = load_images_from_folder(intact_side_dir)\n",
    "intact_top_images = load_images_from_folder(intact_top_dir)"
   ]
  },
  {
   "cell_type": "code",
   "execution_count": 4,
   "id": "07060713-ba5f-43ce-902e-f38abf08738a",
   "metadata": {
    "tags": []
   },
   "outputs": [],
   "source": [
    "# Define the dimensions of the images in your dataset\n",
    "width, height = intact_top_images[0].shape[1], intact_top_images[0].shape[0]\n",
    "\n",
    "\n"
   ]
  },
  {
   "cell_type": "code",
   "execution_count": 5,
   "id": "c6e890bd-f49d-47ed-9d57-f6f55ac65a2a",
   "metadata": {
    "tags": []
   },
   "outputs": [],
   "source": [
    "# Create labels for the images\n",
    "damaged_labels = ['damaged'] * (len(damaged_side_images) + len(damaged_top_images))\n",
    "intact_labels = ['intact'] * (len(intact_side_images) + len(intact_top_images))\n",
    "\n"
   ]
  },
  {
   "cell_type": "code",
   "execution_count": 6,
   "id": "44911974-dc2d-4b67-9302-2a3c91e8521d",
   "metadata": {
    "tags": []
   },
   "outputs": [],
   "source": [
    "# Concatenate damaged and intact images and labels\n",
    "all_images = damaged_side_images + damaged_top_images + intact_side_images + intact_top_images\n",
    "all_labels = damaged_labels + intact_labels\n",
    "\n"
   ]
  },
  {
   "cell_type": "code",
   "execution_count": 7,
   "id": "77717533-c92c-4fb7-94a4-c0136e166239",
   "metadata": {
    "tags": []
   },
   "outputs": [],
   "source": [
    "# Convert images to numpy array\n",
    "all_images = np.array(all_images)\n",
    "\n"
   ]
  },
  {
   "cell_type": "code",
   "execution_count": 8,
   "id": "ea989665-087b-463e-9383-10d259511f42",
   "metadata": {
    "tags": []
   },
   "outputs": [],
   "source": [
    "# Flatten the images\n",
    "all_images_flattened = all_images.reshape(all_images.shape[0], -1)\n",
    "\n"
   ]
  },
  {
   "cell_type": "code",
   "execution_count": 9,
   "id": "bb6be0a1-4fe9-4090-9eac-88645b729d5c",
   "metadata": {
    "tags": []
   },
   "outputs": [],
   "source": [
    "# Split the dataset into training and validation sets\n",
    "X_train, X_val, y_train, y_val = train_test_split(all_images_flattened, all_labels, test_size=0.1, random_state=42)\n",
    "\n"
   ]
  },
  {
   "cell_type": "code",
   "execution_count": 10,
   "id": "212ce402-9a8b-49e7-8300-6f709aadb028",
   "metadata": {
    "tags": []
   },
   "outputs": [
    {
     "name": "stderr",
     "output_type": "stream",
     "text": [
      "C:\\Users\\celsi\\anaconda3\\Lib\\site-packages\\sklearn\\linear_model\\_logistic.py:460: ConvergenceWarning: lbfgs failed to converge (status=1):\n",
      "STOP: TOTAL NO. of ITERATIONS REACHED LIMIT.\n",
      "\n",
      "Increase the number of iterations (max_iter) or scale the data as shown in:\n",
      "    https://scikit-learn.org/stable/modules/preprocessing.html\n",
      "Please also refer to the documentation for alternative solver options:\n",
      "    https://scikit-learn.org/stable/modules/linear_model.html#logistic-regression\n",
      "  n_iter_i = _check_optimize_result(\n"
     ]
    },
    {
     "data": {
      "text/html": [
       "<style>#sk-container-id-1 {color: black;}#sk-container-id-1 pre{padding: 0;}#sk-container-id-1 div.sk-toggleable {background-color: white;}#sk-container-id-1 label.sk-toggleable__label {cursor: pointer;display: block;width: 100%;margin-bottom: 0;padding: 0.3em;box-sizing: border-box;text-align: center;}#sk-container-id-1 label.sk-toggleable__label-arrow:before {content: \"▸\";float: left;margin-right: 0.25em;color: #696969;}#sk-container-id-1 label.sk-toggleable__label-arrow:hover:before {color: black;}#sk-container-id-1 div.sk-estimator:hover label.sk-toggleable__label-arrow:before {color: black;}#sk-container-id-1 div.sk-toggleable__content {max-height: 0;max-width: 0;overflow: hidden;text-align: left;background-color: #f0f8ff;}#sk-container-id-1 div.sk-toggleable__content pre {margin: 0.2em;color: black;border-radius: 0.25em;background-color: #f0f8ff;}#sk-container-id-1 input.sk-toggleable__control:checked~div.sk-toggleable__content {max-height: 200px;max-width: 100%;overflow: auto;}#sk-container-id-1 input.sk-toggleable__control:checked~label.sk-toggleable__label-arrow:before {content: \"▾\";}#sk-container-id-1 div.sk-estimator input.sk-toggleable__control:checked~label.sk-toggleable__label {background-color: #d4ebff;}#sk-container-id-1 div.sk-label input.sk-toggleable__control:checked~label.sk-toggleable__label {background-color: #d4ebff;}#sk-container-id-1 input.sk-hidden--visually {border: 0;clip: rect(1px 1px 1px 1px);clip: rect(1px, 1px, 1px, 1px);height: 1px;margin: -1px;overflow: hidden;padding: 0;position: absolute;width: 1px;}#sk-container-id-1 div.sk-estimator {font-family: monospace;background-color: #f0f8ff;border: 1px dotted black;border-radius: 0.25em;box-sizing: border-box;margin-bottom: 0.5em;}#sk-container-id-1 div.sk-estimator:hover {background-color: #d4ebff;}#sk-container-id-1 div.sk-parallel-item::after {content: \"\";width: 100%;border-bottom: 1px solid gray;flex-grow: 1;}#sk-container-id-1 div.sk-label:hover label.sk-toggleable__label {background-color: #d4ebff;}#sk-container-id-1 div.sk-serial::before {content: \"\";position: absolute;border-left: 1px solid gray;box-sizing: border-box;top: 0;bottom: 0;left: 50%;z-index: 0;}#sk-container-id-1 div.sk-serial {display: flex;flex-direction: column;align-items: center;background-color: white;padding-right: 0.2em;padding-left: 0.2em;position: relative;}#sk-container-id-1 div.sk-item {position: relative;z-index: 1;}#sk-container-id-1 div.sk-parallel {display: flex;align-items: stretch;justify-content: center;background-color: white;position: relative;}#sk-container-id-1 div.sk-item::before, #sk-container-id-1 div.sk-parallel-item::before {content: \"\";position: absolute;border-left: 1px solid gray;box-sizing: border-box;top: 0;bottom: 0;left: 50%;z-index: -1;}#sk-container-id-1 div.sk-parallel-item {display: flex;flex-direction: column;z-index: 1;position: relative;background-color: white;}#sk-container-id-1 div.sk-parallel-item:first-child::after {align-self: flex-end;width: 50%;}#sk-container-id-1 div.sk-parallel-item:last-child::after {align-self: flex-start;width: 50%;}#sk-container-id-1 div.sk-parallel-item:only-child::after {width: 0;}#sk-container-id-1 div.sk-dashed-wrapped {border: 1px dashed gray;margin: 0 0.4em 0.5em 0.4em;box-sizing: border-box;padding-bottom: 0.4em;background-color: white;}#sk-container-id-1 div.sk-label label {font-family: monospace;font-weight: bold;display: inline-block;line-height: 1.2em;}#sk-container-id-1 div.sk-label-container {text-align: center;}#sk-container-id-1 div.sk-container {/* jupyter's `normalize.less` sets `[hidden] { display: none; }` but bootstrap.min.css set `[hidden] { display: none !important; }` so we also need the `!important` here to be able to override the default hidden behavior on the sphinx rendered scikit-learn.org. See: https://github.com/scikit-learn/scikit-learn/issues/21755 */display: inline-block !important;position: relative;}#sk-container-id-1 div.sk-text-repr-fallback {display: none;}</style><div id=\"sk-container-id-1\" class=\"sk-top-container\"><div class=\"sk-text-repr-fallback\"><pre>LogisticRegression(random_state=42)</pre><b>In a Jupyter environment, please rerun this cell to show the HTML representation or trust the notebook. <br />On GitHub, the HTML representation is unable to render, please try loading this page with nbviewer.org.</b></div><div class=\"sk-container\" hidden><div class=\"sk-item\"><div class=\"sk-estimator sk-toggleable\"><input class=\"sk-toggleable__control sk-hidden--visually\" id=\"sk-estimator-id-1\" type=\"checkbox\" checked><label for=\"sk-estimator-id-1\" class=\"sk-toggleable__label sk-toggleable__label-arrow\">LogisticRegression</label><div class=\"sk-toggleable__content\"><pre>LogisticRegression(random_state=42)</pre></div></div></div></div></div>"
      ],
      "text/plain": [
       "LogisticRegression(random_state=42)"
      ]
     },
     "execution_count": 10,
     "metadata": {},
     "output_type": "execute_result"
    }
   ],
   "source": [
    "# Encode labels\n",
    "label_encoder = LabelEncoder()\n",
    "y_train_encoded = label_encoder.fit_transform(y_train)\n",
    "y_val_encoded = label_encoder.transform(y_val) \n",
    "\n",
    "# Train a logistic regression model\n",
    "model = LogisticRegression(random_state=42)  # Increase max_iter if needed\n",
    "model.fit(X_train, y_train_encoded)\n"
   ]
  },
  {
   "cell_type": "code",
   "execution_count": 12,
   "id": "eea98f89-bd19-47c3-80ae-83311960962d",
   "metadata": {},
   "outputs": [
    {
     "name": "stdout",
     "output_type": "stream",
     "text": [
      "Validation Accuracy for LR algorithm: 0.95\n",
      "Training R-squared: 1.0\n",
      "Training RMSE: 0.0\n",
      "Testing R-squared: 0.7998749218261413\n",
      "Testing RMSE: 0.22360679774997896\n",
      "F1 Score: 0.9498114393463231\n",
      "Confusion Matrix:\n",
      "[[41  0]\n",
      " [ 4 35]]\n"
     ]
    }
   ],
   "source": [
    "# Evaluate the model on the validation set\n",
    "y_val_pred_encoded = model.predict(X_val)\n",
    "accuracy = accuracy_score(y_val_encoded, y_val_pred_encoded)\n",
    "print(f\"Validation Accuracy for LR algorithm: {accuracy}\")\n",
    "\n",
    "# Evaluate R-squared and RMSE for training set\n",
    "y_train_pred_encoded = model.predict(X_train)\n",
    "r2_train = r2_score(y_train_encoded, y_train_pred_encoded)\n",
    "rmse_train = sqrt(mean_squared_error(y_train_encoded, y_train_pred_encoded))\n",
    "print(f\"Training R-squared: {r2_train}\")\n",
    "print(f\"Training RMSE: {rmse_train}\")\n",
    "\n",
    "# Evaluate R-squared and RMSE for testing set\n",
    "r2_test = r2_score(y_val_encoded, y_val_pred_encoded)\n",
    "rmse_test = sqrt(mean_squared_error(y_val_encoded, y_val_pred_encoded))\n",
    "print(f\"Testing R-squared: {r2_test}\")\n",
    "print(f\"Testing RMSE: {rmse_test}\")\n",
    "\n",
    "# Calculate F1 score\n",
    "f1 = f1_score(y_val_encoded, y_val_pred_encoded, average='weighted')\n",
    "print(f\"F1 Score: {f1}\")\n"
   ]
  },
  {
   "cell_type": "code",
   "execution_count": 1,
   "id": "ccb84f9d-f9a1-42e5-b17f-3cb24c198a20",
   "metadata": {
    "tags": []
   },
   "outputs": [
    {
     "ename": "NameError",
     "evalue": "name 'cv2' is not defined",
     "output_type": "error",
     "traceback": [
      "\u001b[1;31m---------------------------------------------------------------------------\u001b[0m",
      "\u001b[1;31mNameError\u001b[0m                                 Traceback (most recent call last)",
      "Cell \u001b[1;32mIn[1], line 4\u001b[0m\n\u001b[0;32m      1\u001b[0m image_path \u001b[38;5;241m=\u001b[39m \u001b[38;5;124m\"\u001b[39m\u001b[38;5;124mC:\u001b[39m\u001b[38;5;130;01m\\\\\u001b[39;00m\u001b[38;5;124mUsers\u001b[39m\u001b[38;5;130;01m\\\\\u001b[39;00m\u001b[38;5;124mcelsi\u001b[39m\u001b[38;5;130;01m\\\\\u001b[39;00m\u001b[38;5;124mDownloads\u001b[39m\u001b[38;5;130;01m\\\\\u001b[39;00m\u001b[38;5;124marchive\u001b[39m\u001b[38;5;130;01m\\\\\u001b[39;00m\u001b[38;5;124mdamaged\u001b[39m\u001b[38;5;130;01m\\\\\u001b[39;00m\u001b[38;5;124mside\u001b[39m\u001b[38;5;130;01m\\\\\u001b[39;00m\u001b[38;5;124m0753850385083_side.png\u001b[39m\u001b[38;5;124m\"\u001b[39m\n\u001b[0;32m      3\u001b[0m \u001b[38;5;66;03m# Load the user-uploaded image\u001b[39;00m\n\u001b[1;32m----> 4\u001b[0m user_image \u001b[38;5;241m=\u001b[39m cv2\u001b[38;5;241m.\u001b[39mimread(image_path)\n\u001b[0;32m      5\u001b[0m \u001b[38;5;28;01mif\u001b[39;00m user_image \u001b[38;5;129;01mis\u001b[39;00m \u001b[38;5;28;01mNone\u001b[39;00m:\n\u001b[0;32m      6\u001b[0m     \u001b[38;5;28mprint\u001b[39m(\u001b[38;5;124m\"\u001b[39m\u001b[38;5;124mError loading the image. Exiting.\u001b[39m\u001b[38;5;124m\"\u001b[39m)\n",
      "\u001b[1;31mNameError\u001b[0m: name 'cv2' is not defined"
     ]
    }
   ],
   "source": [
    "image_path = \"C:\\\\Users\\\\celsi\\\\Downloads\\\\archive\\\\damaged\\\\side\\\\0753850385083_side.png\"\n",
    "\n",
    "# Load the user-uploaded image\n",
    "user_image = cv2.imread(image_path)\n",
    "if user_image is None:\n",
    "    print(\"Error loading the image. Exiting.\")\n",
    "else:\n",
    "    # Resize the image to match the model input dimensions\n",
    "    resized_image = cv2.resize(user_image, (width, height))\n",
    "\n",
    "    # Preprocess the image (if needed)\n",
    "    preprocessed_image = resized_image  # Placeholder for any preprocessing steps\n",
    "\n",
    "    # Predict the class label\n",
    "    prediction = model.predict(preprocessed_image.reshape(1, -1))\n",
    "\n",
    " # Define colors for bounding boxes\n",
    "    if prediction[0] == 1:\n",
    "        color = (0, 255, 0)  # Green for intact\n",
    "        label = \"Intact\"\n",
    "    else:\n",
    "        color = (0, 0, 255)  # Red for damaged\n",
    "        label = \"Damaged\"\n",
    "    \n",
    "    # Calculate the bounding box coordinates (assuming the package is in the center of the image)\n",
    "    box_x1, box_y1 = int(width * 0.25), int(height * 0.25)  # Top-left corner\n",
    "    box_x2, box_y2 = int(width * 0.75), int(height * 0.75)  # Bottom-right corner\n",
    "\n",
    "    # Draw a bounding box around the object in the image\n",
    "    cv2.rectangle(resized_image, (box_x1, box_y1), (box_x2, box_y2), color, thickness=2)\n",
    "    \n",
    "    # Add label text\n",
    "    cv2.putText(resized_image, label, (box_x1, box_y1 - 10), cv2.FONT_HERSHEY_SIMPLEX, 1, color, 2)\n",
    "    \n",
    "try:\n",
    "    # Display the image with prediction\n",
    "    cv2.imshow(\"Prediction Result\", resized_image)\n",
    "    cv2.waitKey(0)\n",
    "    cv2.destroyAllWindows()\n",
    "except Exception as e:\n",
    "    print(\"An error occurred during image display:\", e)"
   ]
  },
  {
   "cell_type": "code",
   "execution_count": null,
   "id": "4a2d23f2-b517-4ff1-a055-fd773c97f860",
   "metadata": {},
   "outputs": [],
   "source": []
  },
  {
   "cell_type": "code",
   "execution_count": null,
   "id": "b5a69a83-15f6-494d-b779-6e21234325a9",
   "metadata": {},
   "outputs": [],
   "source": []
  }
 ],
 "metadata": {
  "kernelspec": {
   "display_name": "Python 3 (ipykernel)",
   "language": "python",
   "name": "python3"
  },
  "language_info": {
   "codemirror_mode": {
    "name": "ipython",
    "version": 3
   },
   "file_extension": ".py",
   "mimetype": "text/x-python",
   "name": "python",
   "nbconvert_exporter": "python",
   "pygments_lexer": "ipython3",
   "version": "3.11.5"
  }
 },
 "nbformat": 4,
 "nbformat_minor": 5
}
